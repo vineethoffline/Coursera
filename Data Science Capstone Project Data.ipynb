{
    "nbformat_minor": 1, 
    "cells": [
        {
            "source": "### Introduction/Business Problem\nUsing Data Science and Machine Learning, identify the best locations (cluster of neighborhoods) for opening a __Bakery__ in Kochi, India. \n\n### Data\nList of neighborhoods in Kochi, India is available in Wikipedia at https://en.wikipedia.org/wiki/Category:Suburbs_of_Kochi. Dataframe of neighborhoods in Kochi, India can be made by scraping the data from Wikipedia page using __BeautifulSoup__ library.\n\n### Methodology\nOnce the Dataframe of neighborhoods in Kochi, India is made by scraping the data from Wikipedia page using __BeautifulSoup__ library, the neighborhood addresses are converted into their equivalent latitude and longitude values using geocoder library. Using the lattitude & longitude coordinates, __Foursquare API__ is invoked to explore neighborhoods in Kochi, India. Explore function is used to get the common venue categories in each neighborhood, and then use this feature to group the neighborhoods into clusters. __k-means__ clustering algorithm is used to cluseter the neighborhoods into three based on mumber of Bakeries: High, Medium, Low. Finally, __Folium__ library is used to visualize the neighborhoods in Kochi India and their clusters.", 
            "cell_type": "markdown", 
            "metadata": {}
        }, 
        {
            "source": "### 0. Install & Import Libraries", 
            "cell_type": "markdown", 
            "metadata": {}
        }, 
        {
            "execution_count": 87, 
            "cell_type": "code", 
            "metadata": {
                "scrolled": true
            }, 
            "outputs": [
                {
                    "output_type": "stream", 
                    "name": "stdout", 
                    "text": "Solving environment: done\n\n# All requested packages already installed.\n\nSolving environment: done\n\n# All requested packages already installed.\n\nSolving environment: done\n\n# All requested packages already installed.\n\n"
                }
            ], 
            "source": "!conda install -c conda-forge geopy --yes\n!conda install -c conda-forge folium=0.5.0 --yes\n!conda install -c conda-forge geocoder --yes"
        }, 
        {
            "execution_count": 89, 
            "cell_type": "code", 
            "metadata": {}, 
            "outputs": [], 
            "source": "import geocoder"
        }, 
        {
            "execution_count": 90, 
            "cell_type": "code", 
            "metadata": {}, 
            "outputs": [], 
            "source": "import numpy as np \nimport pandas as pd \npd.set_option(\"display.max_columns\", None)\npd.set_option(\"display.max_rows\", None)\n\nimport json "
        }, 
        {
            "execution_count": 91, 
            "cell_type": "code", 
            "metadata": {}, 
            "outputs": [
                {
                    "output_type": "stream", 
                    "name": "stdout", 
                    "text": "Libraries imported.\n"
                }
            ], 
            "source": "from geopy.geocoders import Nominatim \n\nimport requests \nfrom bs4 import BeautifulSoup \n\nfrom pandas.io.json import json_normalize \n\nimport matplotlib.cm as cm\nimport matplotlib.colors as colors\n\n\nfrom sklearn.cluster import KMeans\n\nimport folium \n\nprint(\"Libraries imported.\")"
        }, 
        {
            "source": "### 1. Download and Explore Dataset - Scrap data from Wikipedia page into a Data Frame", 
            "cell_type": "markdown", 
            "metadata": {}
        }, 
        {
            "execution_count": 92, 
            "cell_type": "code", 
            "metadata": {}, 
            "outputs": [], 
            "source": "df = requests.get(\"https://en.wikipedia.org/wiki/Category:Suburbs_of_Kochi\").text"
        }, 
        {
            "execution_count": 93, 
            "cell_type": "code", 
            "metadata": {}, 
            "outputs": [], 
            "source": "soup = BeautifulSoup(df, 'html.parser')"
        }, 
        {
            "execution_count": 94, 
            "cell_type": "code", 
            "metadata": {}, 
            "outputs": [
                {
                    "execution_count": 94, 
                    "metadata": {}, 
                    "data": {
                        "text/html": "<div>\n<style scoped>\n    .dataframe tbody tr th:only-of-type {\n        vertical-align: middle;\n    }\n\n    .dataframe tbody tr th {\n        vertical-align: top;\n    }\n\n    .dataframe thead th {\n        text-align: right;\n    }\n</style>\n<table border=\"1\" class=\"dataframe\">\n  <thead>\n    <tr style=\"text-align: right;\">\n      <th></th>\n      <th>Neighborhood</th>\n    </tr>\n  </thead>\n  <tbody>\n    <tr>\n      <th>0</th>\n      <td>Alangad</td>\n    </tr>\n    <tr>\n      <th>1</th>\n      <td>Angamaly</td>\n    </tr>\n    <tr>\n      <th>2</th>\n      <td>Aroor</td>\n    </tr>\n    <tr>\n      <th>3</th>\n      <td>Chellanam</td>\n    </tr>\n    <tr>\n      <th>4</th>\n      <td>Chendamangalam</td>\n    </tr>\n  </tbody>\n</table>\n</div>", 
                        "text/plain": "     Neighborhood\n0         Alangad\n1        Angamaly\n2           Aroor\n3       Chellanam\n4  Chendamangalam"
                    }, 
                    "output_type": "execute_result"
                }
            ], 
            "source": "neighborhood= []\nfor row in soup.find_all(\"div\", class_=\"mw-category\")[0].findAll(\"li\"):\n    neighborhood.append(row.text)\nloc_df = pd.DataFrame({\"Neighborhood\": neighborhood})\nloc_df.head()"
        }, 
        {
            "execution_count": 95, 
            "cell_type": "code", 
            "metadata": {}, 
            "outputs": [
                {
                    "execution_count": 95, 
                    "metadata": {}, 
                    "data": {
                        "text/plain": "(44, 1)"
                    }, 
                    "output_type": "execute_result"
                }
            ], 
            "source": "loc_df.shape"
        }, 
        {
            "source": "### 2. Get Lattitude & Longitude of the Neigborhoods", 
            "cell_type": "markdown", 
            "metadata": {}
        }, 
        {
            "execution_count": 96, 
            "cell_type": "code", 
            "metadata": {}, 
            "outputs": [], 
            "source": "def get_latlng(neighborhood):\n    lat_lng_coords = None\n    while(lat_lng_coords is None):\n        g = geocoder.arcgis('{}, Kochi, India'.format(neighborhood))\n        lat_lng_coords = g.latlng\n    return lat_lng_coords"
        }, 
        {
            "execution_count": 97, 
            "cell_type": "code", 
            "metadata": {}, 
            "outputs": [], 
            "source": "coords = [ get_latlng(neighborhood) for neighborhood in loc_df[\"Neighborhood\"].tolist() ]"
        }, 
        {
            "execution_count": 98, 
            "cell_type": "code", 
            "metadata": {}, 
            "outputs": [], 
            "source": "df_coords = pd.DataFrame(coords, columns=['Latitude', 'Longitude'])"
        }, 
        {
            "execution_count": 99, 
            "cell_type": "code", 
            "metadata": {}, 
            "outputs": [], 
            "source": "loc_df['Latitude'] = df_coords['Latitude']\nloc_df['Longitude'] = df_coords['Longitude']"
        }, 
        {
            "execution_count": 100, 
            "cell_type": "code", 
            "metadata": {}, 
            "outputs": [
                {
                    "execution_count": 100, 
                    "metadata": {}, 
                    "data": {
                        "text/html": "<div>\n<style scoped>\n    .dataframe tbody tr th:only-of-type {\n        vertical-align: middle;\n    }\n\n    .dataframe tbody tr th {\n        vertical-align: top;\n    }\n\n    .dataframe thead th {\n        text-align: right;\n    }\n</style>\n<table border=\"1\" class=\"dataframe\">\n  <thead>\n    <tr style=\"text-align: right;\">\n      <th></th>\n      <th>Neighborhood</th>\n      <th>Latitude</th>\n      <th>Longitude</th>\n    </tr>\n  </thead>\n  <tbody>\n    <tr>\n      <th>0</th>\n      <td>Alangad</td>\n      <td>10.84750</td>\n      <td>76.43609</td>\n    </tr>\n    <tr>\n      <th>1</th>\n      <td>Angamaly</td>\n      <td>10.20366</td>\n      <td>76.38268</td>\n    </tr>\n    <tr>\n      <th>2</th>\n      <td>Aroor</td>\n      <td>9.93599</td>\n      <td>76.26145</td>\n    </tr>\n    <tr>\n      <th>3</th>\n      <td>Chellanam</td>\n      <td>9.83526</td>\n      <td>76.27029</td>\n    </tr>\n    <tr>\n      <th>4</th>\n      <td>Chendamangalam</td>\n      <td>10.17292</td>\n      <td>76.23346</td>\n    </tr>\n  </tbody>\n</table>\n</div>", 
                        "text/plain": "     Neighborhood  Latitude  Longitude\n0         Alangad  10.84750   76.43609\n1        Angamaly  10.20366   76.38268\n2           Aroor   9.93599   76.26145\n3       Chellanam   9.83526   76.27029\n4  Chendamangalam  10.17292   76.23346"
                    }, 
                    "output_type": "execute_result"
                }
            ], 
            "source": "loc_df.head()"
        }
    ], 
    "metadata": {
        "kernelspec": {
            "display_name": "Python 3.6", 
            "name": "python3", 
            "language": "python"
        }, 
        "language_info": {
            "mimetype": "text/x-python", 
            "nbconvert_exporter": "python", 
            "version": "3.6.8", 
            "name": "python", 
            "file_extension": ".py", 
            "pygments_lexer": "ipython3", 
            "codemirror_mode": {
                "version": 3, 
                "name": "ipython"
            }
        }
    }, 
    "nbformat": 4
}