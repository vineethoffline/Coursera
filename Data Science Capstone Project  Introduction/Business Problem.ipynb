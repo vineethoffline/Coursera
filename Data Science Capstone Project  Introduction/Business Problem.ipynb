{
    "nbformat_minor": 1, 
    "cells": [
        {
            "source": "### Introduction/Business Problem\nA client is interested in opening a bakery in the city of Kochi in India. Opening a bakery presents many unique challenges that are different from other types of businesses as there is high degree of competition. To minimise the competition, and to explore areas that do not have many bakeries, Data Science and Machine Learning tools are used to identify the best cluster of neighborhoods for opening a bakery in Kochi, India.\n\n### Data\n\nList of neighborhoods in Kochi, India is available in Wikipedia at https://en.wikipedia.org/wiki/Category:Suburbs_of_Kochi. Dataframe of neighborhoods in Kochi, India can be made by scraping the data from Wikipedia page using __BeautifulSoup__ library.\n\n### Methodology\n\nOnce the Dataframe of neighborhoods in Kochi, India is made by scraping the data from Wikipedia page using __BeautifulSoup__ library, the neighborhood addresses are converted into their equivalent latitude and longitude values using geocoder library. Using the lattitude & longitude coordinates, __Foursquare API__ is invoked to explore neighborhoods in Kochi, India. Explore function is used to get the common venue categories in each neighborhood, and then use this feature to group the neighborhoods into clusters. __k-means__ clustering algorithm is used to cluseter the neighborhoods into three based on mumber of Bakeries: High, Medium, Low. Finally, __Folium__ library is used to visualize the neighborhoods in Kochi India and their clusters.", 
            "cell_type": "markdown", 
            "metadata": {}
        }, 
        {
            "execution_count": null, 
            "cell_type": "code", 
            "metadata": {}, 
            "outputs": [], 
            "source": ""
        }
    ], 
    "metadata": {
        "kernelspec": {
            "display_name": "Python 3.6", 
            "name": "python3", 
            "language": "python"
        }, 
        "language_info": {
            "mimetype": "text/x-python", 
            "nbconvert_exporter": "python", 
            "version": "3.6.8", 
            "name": "python", 
            "file_extension": ".py", 
            "pygments_lexer": "ipython3", 
            "codemirror_mode": {
                "version": 3, 
                "name": "ipython"
            }
        }
    }, 
    "nbformat": 4
}